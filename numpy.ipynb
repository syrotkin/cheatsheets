{
 "cells": [
  {
   "cell_type": "code",
   "execution_count": null,
   "metadata": {},
   "outputs": [],
   "source": [
    "# corresponds to dim in Pytorch\n",
    "\n",
    "axis = 0 # of each column\n",
    "axis = 1 # of each row\n",
    "# e.g. calculate the mean of each column; calculate the mean of each row\n"
   ]
  },
  {
   "cell_type": "code",
   "execution_count": 5,
   "metadata": {},
   "outputs": [
    {
     "name": "stdout",
     "output_type": "stream",
     "text": [
      "[[1 2 3]\n",
      " [3 4 5]]\n",
      "[1 2 3 3 4 5]\n"
     ]
    }
   ],
   "source": [
    "import numpy\n",
    "\n",
    "# vstack\n",
    "vstacked = numpy.vstack(([1, 2, 3], [3, 4, 5]))\n",
    "print(vstacked)\n",
    "\n",
    "# hstack\n",
    "hstacked = numpy.hstack(([1, 2, 3], [3, 4, 5]))\n",
    "print(hstacked)"
   ]
  },
  {
   "cell_type": "code",
   "execution_count": null,
   "metadata": {},
   "outputs": [
    {
     "data": {
      "text/plain": [
       "array([[1., 0., 0., 0., 0., 0., 0., 0., 0., 0., 0.],\n",
       "       [0., 1., 1., 1., 0., 0., 0., 0., 0., 0., 1.],\n",
       "       [0., 0., 0., 0., 1., 1., 1., 1., 0., 0., 0.],\n",
       "       [0., 0., 0., 0., 0., 0., 0., 0., 1., 0., 0.],\n",
       "       [0., 0., 0., 0., 0., 0., 0., 0., 0., 0., 0.],\n",
       "       [0., 0., 0., 0., 0., 0., 0., 0., 0., 1., 0.]])"
      ]
     },
     "execution_count": 1,
     "metadata": {},
     "output_type": "execute_result"
    }
   ],
   "source": [
    "# Convert a vector or indices to a one-hot encoded matrix:\n",
    "import numpy\n",
    "\n",
    "\n",
    "T5 = numpy.eye(6)[numpy.array([0, 1, 1, 1, 2, 2, 2, 2, 3, 5, 1])].T\n",
    "\n",
    "T5"
   ]
  },
  {
   "cell_type": "markdown",
   "metadata": {},
   "source": [
    "Why the above works:\n",
    "You are creating an identity matrix and then taking kth row from it, depending on the index of the numpy array that you use to index it.\n",
    "So, the length of the array can be anything. You just keep taking the rows of the identity matrix (eye). e.g., you can take the 0th row, then again the 0th row\n"
   ]
  },
  {
   "cell_type": "code",
   "execution_count": 2,
   "metadata": {},
   "outputs": [
    {
     "data": {
      "text/plain": [
       "array([[1., 0., 0.],\n",
       "       [1., 0., 0.]])"
      ]
     },
     "execution_count": 2,
     "metadata": {},
     "output_type": "execute_result"
    }
   ],
   "source": [
    "import numpy\n",
    "\n",
    "numpy.eye(3)[numpy.array([0, 0])]"
   ]
  },
  {
   "cell_type": "code",
   "execution_count": 4,
   "metadata": {},
   "outputs": [
    {
     "name": "stdout",
     "output_type": "stream",
     "text": [
      "[[0. 0. 0. 0. 0. 0. 0. 0. 0. 0.]]\n",
      "[[0.5 0.5 0.5 0.5 0.5 0.5 0.5 0.5 0.5 0.5]]\n"
     ]
    }
   ],
   "source": [
    "# Vectorize function to apply function to each element of an array or a matrix \n",
    "import math\n",
    "\n",
    "def logistic_function(z):\n",
    "    return 1/(1 + math.exp(-z))\n",
    "\n",
    "Z = numpy.random.random((1, 10))\n",
    "\n",
    "Z2 = numpy.zeros((1, 10))\n",
    "\n",
    "print(Z2)\n",
    "\n",
    "vec_logistic_function = numpy.vectorize(logistic_function)\n",
    "\n",
    "print(vec_logistic_function(Z2))"
   ]
  },
  {
   "cell_type": "code",
   "execution_count": null,
   "metadata": {},
   "outputs": [],
   "source": [
    "# Apply a function to each column separately or to each row separately, e.g. calculate mean of each column or of each row\n",
    "\n",
    "import numpy as np\n",
    "\n",
    "myarray = np.array([[1, 2, 3],\n",
    "                    [4, 5, 6],\n",
    "                    [7, 8, 9]])\n",
    "def myfunction(x):\n",
    "    mean = numpy.mean(x)\n",
    "    return numpy.array(x)/mean\n",
    "\n",
    "print(np.apply_along_axis(numpy.mean, axis=0, arr=myarray))\n",
    "\n",
    "# apply to each column separately\n",
    "# axis = 0 => apply to each column separately\n",
    "print(np.apply_along_axis(myfunction, axis=0, arr=myarray))\n",
    "\n",
    "# apply to each row separately\n",
    "# axis = 1 => apply to each row separately\n",
    "print(np.apply_along_axis(myfunction, axis=1, arr=myarray))"
   ]
  },
  {
   "cell_type": "code",
   "execution_count": null,
   "metadata": {},
   "outputs": [],
   "source": [
    "l = np.array([5, 3, 2, 4, 6, 0])\n",
    "# sort ndarray indices in descending order\n",
    "idx_desc = l.argsort()[::-1]\n",
    "print(idx_desc)\n",
    "# the list is sorted in descending order\n",
    "l_desc = l[idx_desc]\n",
    "print(l_desc)\n",
    "\n",
    "# sort ndarray indices in ascending order\n",
    "idx_asc = l.argsort()[::1]\n",
    "# the list is sorted in ascending order\n",
    "l_asc = l[idx_asc]"
   ]
  },
  {
   "cell_type": "code",
   "execution_count": 2,
   "metadata": {},
   "outputs": [
    {
     "name": "stdout",
     "output_type": "stream",
     "text": [
      "torch.Size([4, 3])\n",
      "tensor([1.7500, 2.5000, 3.7500])\n",
      "tensor([2.0000, 2.6667, 2.6667, 3.3333])\n"
     ]
    }
   ],
   "source": [
    "# calculate means of each column\n",
    "# the result is a row-vector (tensor) of shape (1, number_of_columns) aka (1, number_of_elements_in_each_row)\n",
    "import torch\n",
    "t1 = torch.tensor([1, 2, 3])\n",
    "t2 = torch.tensor([1., 3, 4])\n",
    "t3 = torch.tensor([2, 3, 3])\n",
    "t4 = torch.tensor([3., 2, 5])\n",
    "\n",
    "list = [t1, t2, t3, t4]\n",
    "\n",
    "list_as_tensor = torch.stack(list, dim=0)\n",
    "\n",
    "print(list_as_tensor.shape)\n",
    "\n",
    "means_of_columns = torch.mean(list_as_tensor, dim=0)\n",
    "print(means_of_columns)\n",
    "\n",
    "means_of_rows = torch.mean(list_as_tensor, dim= 1)\n",
    "print(means_of_rows)\n"
   ]
  },
  {
   "cell_type": "code",
   "execution_count": 3,
   "metadata": {},
   "outputs": [
    {
     "data": {
      "text/plain": [
       "tensor([[ 0.7121,  1.7781],\n",
       "        [ 0.0420, -1.5706],\n",
       "        [-1.3416, -1.3704]])"
      ]
     },
     "execution_count": 3,
     "metadata": {},
     "output_type": "execute_result"
    }
   ],
   "source": [
    "# create tensor of random numbers from ranges\n",
    "\n",
    "import torch\n",
    "\n",
    "#y = torch.FloatTensor(3, 2).uniform_(-2, 2)\n",
    "\n",
    "# another way to do this:\n",
    "\n",
    "# (r1 - r2) * torch.rand(a, b) + r2\n",
    "(-2 - 2) * torch.rand(3, 2) + 2\n"
   ]
  }
 ],
 "metadata": {
  "kernelspec": {
   "display_name": "Python 3",
   "language": "python",
   "name": "python3"
  },
  "language_info": {
   "codemirror_mode": {
    "name": "ipython",
    "version": 3
   },
   "file_extension": ".py",
   "mimetype": "text/x-python",
   "name": "python",
   "nbconvert_exporter": "python",
   "pygments_lexer": "ipython3",
   "version": "3.12.5"
  }
 },
 "nbformat": 4,
 "nbformat_minor": 2
}
